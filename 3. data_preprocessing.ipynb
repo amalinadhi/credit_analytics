{
 "cells": [
  {
   "cell_type": "code",
   "execution_count": 1,
   "metadata": {},
   "outputs": [],
   "source": [
    "import pandas as pd\n",
    "import numpy as np\n",
    "import src.utils as utils\n",
    "\n",
    "from sklearn.preprocessing import StandardScaler\n",
    "from sklearn.impute import SimpleImputer"
   ]
  },
  {
   "attachments": {},
   "cell_type": "markdown",
   "metadata": {},
   "source": [
    "# Load Config File"
   ]
  },
  {
   "cell_type": "code",
   "execution_count": 2,
   "metadata": {},
   "outputs": [
    {
     "data": {
      "text/plain": [
       "{'raw_dataset_path': 'data/raw/data.csv',\n",
       " 'data_set_path': 'data/output/data.pkl',\n",
       " 'input_set_path': 'data/output/input.pkl',\n",
       " 'output_set_path': 'data/output/output.pkl',\n",
       " 'input_columns_path': 'data/output/input_columns.pkl',\n",
       " 'train_set_path': ['data/output/X_train.pkl', 'data/output/y_train.pkl'],\n",
       " 'test_set_path': ['data/output/X_test.pkl', 'data/output/y_test.pkl'],\n",
       " 'index_column': 'Unnamed: 0',\n",
       " 'output_column': 'SeriousDlqin2yrs',\n",
       " 'seed': 42,\n",
       " 'test_size': 0.2,\n",
       " 'clean_late_col': 'NumberOfTimes90DaysLate',\n",
       " 'clean_late_val': 96,\n",
       " 'clean_unsecure_col': 'RevolvingUtilizationOfUnsecuredLines',\n",
       " 'constant_imputer_col': 'NumberOfDependents',\n",
       " 'constant_imputer_path': 'data/preprocess/constant_imputer.pkl',\n",
       " 'constant_imputer_val': 0.0,\n",
       " 'median_imputer_col': 'MonthlyIncome',\n",
       " 'median_imputer_path': 'data/preprocess/median_imputer.pkl',\n",
       " 'standardizer_path': 'data/preprocess/standardizer.pkl',\n",
       " 'preprocessor_path': 'data/preprocess/preprocessor.pkl',\n",
       " 'train_clean_path': ['data/preprocess/X_train_clean.pkl',\n",
       "  'data/preprocess/y_train_clean.pkl'],\n",
       " 'test_clean_path': ['data/preprocess/X_test_clean.pkl',\n",
       "  'data/preprocess/y_test_clean.pkl']}"
      ]
     },
     "execution_count": 2,
     "metadata": {},
     "output_type": "execute_result"
    }
   ],
   "source": [
    "CONFIG_DATA = utils.config_load()\n",
    "CONFIG_DATA"
   ]
  },
  {
   "attachments": {},
   "cell_type": "markdown",
   "metadata": {},
   "source": [
    "# Plan Preprocessing"
   ]
  },
  {
   "attachments": {},
   "cell_type": "markdown",
   "metadata": {},
   "source": [
    "**Summary EDA**:\n",
    "- Data yang `NumberOfTimes90DaysLate == 96` atau `NumberOfTimes90DaysLate == 98` di delete\n",
    "- Data yang `RevolvingUtilizationOfUnsecuredLines > 1.35` di delete\n",
    "- Missing value imputation \n",
    "  - `MonthlyIncome` : Median\n",
    "  - `NumberOfDependents` : 0.0"
   ]
  },
  {
   "attachments": {},
   "cell_type": "markdown",
   "metadata": {},
   "source": [
    "# Load Dataset"
   ]
  },
  {
   "cell_type": "code",
   "execution_count": 3,
   "metadata": {},
   "outputs": [],
   "source": [
    "def load_dataset(return_file=True):\n",
    "    # Load train data\n",
    "    X_train = utils.pickle_load(CONFIG_DATA['train_set_path'][0])\n",
    "    y_train = utils.pickle_load(CONFIG_DATA['train_set_path'][1])\n",
    "\n",
    "    # Load test data\n",
    "    X_test = utils.pickle_load(CONFIG_DATA['test_set_path'][0])\n",
    "    y_test = utils.pickle_load(CONFIG_DATA['test_set_path'][1])\n",
    "\n",
    "    # Print \n",
    "    print(\"X_train shape :\", X_train.shape)\n",
    "    print(\"y_train shape :\", y_train.shape)\n",
    "    print(\"X_test shape  :\", X_test.shape)\n",
    "    print(\"y_test shape  :\", y_test.shape)\n",
    "\n",
    "    if return_file:\n",
    "        return X_train, X_test, y_train, y_test"
   ]
  },
  {
   "cell_type": "code",
   "execution_count": 4,
   "metadata": {},
   "outputs": [
    {
     "name": "stdout",
     "output_type": "stream",
     "text": [
      "X_train shape : (120000, 10)\n",
      "y_train shape : (120000,)\n",
      "X_test shape  : (30000, 10)\n",
      "y_test shape  : (30000,)\n"
     ]
    }
   ],
   "source": [
    "X_train, X_test, y_train, y_test = load_dataset()"
   ]
  },
  {
   "attachments": {},
   "cell_type": "markdown",
   "metadata": {},
   "source": [
    "# Preprocess Train"
   ]
  },
  {
   "attachments": {},
   "cell_type": "markdown",
   "metadata": {},
   "source": [
    "1. Data yang `NumberOfTimes90DaysLate == 96` atau `NumberOfTimes90DaysLate == 98` di delete"
   ]
  },
  {
   "cell_type": "code",
   "execution_count": 5,
   "metadata": {},
   "outputs": [],
   "source": [
    "def clean_late_data(X, y):\n",
    "    \"\"\"Function to clean NumberOfTimes90DaysLate columns\"\"\"\n",
    "    # Find index to drop\n",
    "    drop_condition = X[CONFIG_DATA['clean_late_col']] >= CONFIG_DATA['clean_late_val']\n",
    "    index_to_drop = X[drop_condition].index.tolist()\n",
    "\n",
    "    # Drop data\n",
    "    X_drop = X.drop(index = index_to_drop)\n",
    "    y_drop = y.drop(index = index_to_drop)\n",
    "\n",
    "    # Print\n",
    "    print(\"X shape :\", X_drop.shape)\n",
    "    print(\"y shape :\", y_drop.shape)\n",
    "\n",
    "    return X_drop, y_drop"
   ]
  },
  {
   "cell_type": "code",
   "execution_count": 6,
   "metadata": {},
   "outputs": [
    {
     "name": "stdout",
     "output_type": "stream",
     "text": [
      "X shape : (119785, 10)\n",
      "y shape : (119785,)\n"
     ]
    }
   ],
   "source": [
    "X_train_drop_1, y_train_drop_1 = clean_late_data(X_train, y_train)"
   ]
  },
  {
   "attachments": {},
   "cell_type": "markdown",
   "metadata": {},
   "source": [
    "2. Data yang `RevolvingUtilizationOfUnsecuredLines > 1.35` di delete"
   ]
  },
  {
   "cell_type": "code",
   "execution_count": 7,
   "metadata": {},
   "outputs": [],
   "source": [
    "def clean_unsecured_data(X, y):\n",
    "    \"\"\"Function to clean RevolvingUtilizationOfUnsecuredLines columns from outlier\"\"\"\n",
    "    # Find upper boundary & lower boundary\n",
    "    q1, q3 = np.quantile(X[CONFIG_DATA['clean_unsecure_col']], q = [0.25, 0.75])\n",
    "    iqr = q3-q1\n",
    "    ub = q3 + 1.5*iqr\n",
    "    lb = q1 - 1.5*iqr\n",
    "\n",
    "    # Filter data\n",
    "    drop_condition_1 = X[CONFIG_DATA['clean_unsecure_col']] > ub\n",
    "    drop_condition_2 = X[CONFIG_DATA['clean_unsecure_col']] < lb\n",
    "    index_to_drop = X[drop_condition_1 | drop_condition_2].index.tolist()\n",
    "\n",
    "    # Drop data\n",
    "    X_drop = X.drop(index = index_to_drop)\n",
    "    y_drop = y.drop(index = index_to_drop)\n",
    "\n",
    "    # Print\n",
    "    print(\"X shape :\", X_drop.shape)\n",
    "    print(\"y shape :\", y_drop.shape)\n",
    "\n",
    "    return X_drop, y_drop\n"
   ]
  },
  {
   "cell_type": "code",
   "execution_count": 8,
   "metadata": {},
   "outputs": [
    {
     "name": "stdout",
     "output_type": "stream",
     "text": [
      "X shape : (119173, 10)\n",
      "y shape : (119173,)\n"
     ]
    }
   ],
   "source": [
    "X_train_drop_2, y_train_drop_2 = clean_unsecured_data(X_train_drop_1, y_train_drop_1)"
   ]
  },
  {
   "attachments": {},
   "cell_type": "markdown",
   "metadata": {},
   "source": [
    "3. Missing value imputation \n",
    "  - `MonthlyIncome` : Median\n",
    "  - `NumberOfDependents` : 0.0"
   ]
  },
  {
   "cell_type": "code",
   "execution_count": 9,
   "metadata": {},
   "outputs": [],
   "source": [
    "def fit_imputer(data, return_file=True):\n",
    "    \"\"\"Function to fit imputer (constant & median)\"\"\"\n",
    "    # Create imputer\n",
    "    constant_imputer = SimpleImputer(missing_values = np.nan,\n",
    "                                     strategy = \"constant\",\n",
    "                                     fill_value = CONFIG_DATA['constant_imputer_val'])\n",
    "    \n",
    "    median_imputer = SimpleImputer(missing_values = np.nan,\n",
    "                                   strategy = \"median\")\n",
    "    \n",
    "    # Fit imputer\n",
    "    constant_imputer.fit(data[[CONFIG_DATA['constant_imputer_col']]])\n",
    "    median_imputer.fit(data[[CONFIG_DATA['median_imputer_col']]])\n",
    "\n",
    "    # Dump imputer\n",
    "    utils.pickle_dump(constant_imputer, CONFIG_DATA['constant_imputer_path'])\n",
    "    utils.pickle_dump(median_imputer, CONFIG_DATA['median_imputer_path'])\n",
    "\n",
    "    if return_file:\n",
    "        return constant_imputer, median_imputer\n",
    "    "
   ]
  },
  {
   "cell_type": "code",
   "execution_count": 10,
   "metadata": {},
   "outputs": [],
   "source": [
    "# Fit imputer\n",
    "constant_imputer, median_imputer = fit_imputer(data = X_train_drop_2)"
   ]
  },
  {
   "cell_type": "code",
   "execution_count": 11,
   "metadata": {},
   "outputs": [],
   "source": [
    "def transform_imputer(data, constant_imputer, median_imputer):\n",
    "    \"\"\"Function to transform imputer\"\"\"\n",
    "    data = data.copy()\n",
    "\n",
    "    # Transform\n",
    "    impute_constant = constant_imputer.transform(data[[CONFIG_DATA['constant_imputer_col']]])\n",
    "    impute_median = median_imputer.transform(data[[CONFIG_DATA['median_imputer_col']]])\n",
    "\n",
    "    # Join transformed data\n",
    "    data[CONFIG_DATA['constant_imputer_col']] = impute_constant\n",
    "    data[CONFIG_DATA['median_imputer_col']] = impute_median\n",
    "    \n",
    "    # print\n",
    "    print('data shape :', data.shape)\n",
    "\n",
    "    return data"
   ]
  },
  {
   "cell_type": "code",
   "execution_count": 12,
   "metadata": {},
   "outputs": [
    {
     "name": "stdout",
     "output_type": "stream",
     "text": [
      "data shape : (119173, 10)\n"
     ]
    }
   ],
   "source": [
    "X_train_imputed = transform_imputer(data = X_train_drop_2,\n",
    "                                    constant_imputer = constant_imputer,\n",
    "                                    median_imputer = median_imputer)"
   ]
  },
  {
   "cell_type": "code",
   "execution_count": 13,
   "metadata": {},
   "outputs": [
    {
     "data": {
      "text/plain": [
       "RevolvingUtilizationOfUnsecuredLines    0\n",
       "age                                     0\n",
       "NumberOfTime30-59DaysPastDueNotWorse    0\n",
       "DebtRatio                               0\n",
       "MonthlyIncome                           0\n",
       "NumberOfOpenCreditLinesAndLoans         0\n",
       "NumberOfTimes90DaysLate                 0\n",
       "NumberRealEstateLoansOrLines            0\n",
       "NumberOfTime60-89DaysPastDueNotWorse    0\n",
       "NumberOfDependents                      0\n",
       "dtype: int64"
      ]
     },
     "execution_count": 13,
     "metadata": {},
     "output_type": "execute_result"
    }
   ],
   "source": [
    "X_train_imputed.isna().sum()"
   ]
  },
  {
   "attachments": {},
   "cell_type": "markdown",
   "metadata": {},
   "source": [
    "4. Standardize data"
   ]
  },
  {
   "cell_type": "code",
   "execution_count": 14,
   "metadata": {},
   "outputs": [],
   "source": [
    "def fit_standardize(data, return_file=True):\n",
    "    \"\"\"Find standardizer data\"\"\"\n",
    "    standardizer = StandardScaler()\n",
    "\n",
    "    # Fit standardizer\n",
    "    standardizer.fit(data)\n",
    "\n",
    "    # Dump standardizer\n",
    "    utils.pickle_dump(standardizer, CONFIG_DATA['standardizer_path'])\n",
    "    \n",
    "    if return_file:\n",
    "        return standardizer"
   ]
  },
  {
   "cell_type": "code",
   "execution_count": 15,
   "metadata": {},
   "outputs": [],
   "source": [
    "# Fit standardizer\n",
    "standardizer = fit_standardize(data=X_train_imputed)"
   ]
  },
  {
   "cell_type": "code",
   "execution_count": 16,
   "metadata": {},
   "outputs": [],
   "source": [
    "def transform_standardize(data, standardizer):\n",
    "    \"\"\"Function to standardize data\"\"\"\n",
    "    data_standard = pd.DataFrame(standardizer.transform(data))\n",
    "    data_standard.columns = data.columns\n",
    "    data_standard.index = data.index\n",
    "    return data_standard\n"
   ]
  },
  {
   "cell_type": "code",
   "execution_count": 17,
   "metadata": {},
   "outputs": [],
   "source": [
    "# Transform\n",
    "X_train_clean = transform_standardize(data = X_train_imputed,\n",
    "                                      standardizer = standardizer)"
   ]
  },
  {
   "cell_type": "code",
   "execution_count": 18,
   "metadata": {},
   "outputs": [
    {
     "data": {
      "text/html": [
       "<div>\n",
       "<style scoped>\n",
       "    .dataframe tbody tr th:only-of-type {\n",
       "        vertical-align: middle;\n",
       "    }\n",
       "\n",
       "    .dataframe tbody tr th {\n",
       "        vertical-align: top;\n",
       "    }\n",
       "\n",
       "    .dataframe thead th {\n",
       "        text-align: right;\n",
       "    }\n",
       "</style>\n",
       "<table border=\"1\" class=\"dataframe\">\n",
       "  <thead>\n",
       "    <tr style=\"text-align: right;\">\n",
       "      <th></th>\n",
       "      <th>RevolvingUtilizationOfUnsecuredLines</th>\n",
       "      <th>age</th>\n",
       "      <th>NumberOfTime30-59DaysPastDueNotWorse</th>\n",
       "      <th>DebtRatio</th>\n",
       "      <th>MonthlyIncome</th>\n",
       "      <th>NumberOfOpenCreditLinesAndLoans</th>\n",
       "      <th>NumberOfTimes90DaysLate</th>\n",
       "      <th>NumberRealEstateLoansOrLines</th>\n",
       "      <th>NumberOfTime60-89DaysPastDueNotWorse</th>\n",
       "      <th>NumberOfDependents</th>\n",
       "    </tr>\n",
       "  </thead>\n",
       "  <tbody>\n",
       "    <tr>\n",
       "      <th>count</th>\n",
       "      <td>1.191730e+05</td>\n",
       "      <td>1.191730e+05</td>\n",
       "      <td>1.191730e+05</td>\n",
       "      <td>1.191730e+05</td>\n",
       "      <td>1.191730e+05</td>\n",
       "      <td>1.191730e+05</td>\n",
       "      <td>1.191730e+05</td>\n",
       "      <td>1.191730e+05</td>\n",
       "      <td>1.191730e+05</td>\n",
       "      <td>1.191730e+05</td>\n",
       "    </tr>\n",
       "    <tr>\n",
       "      <th>mean</th>\n",
       "      <td>-3.350801e-17</td>\n",
       "      <td>-1.088116e-16</td>\n",
       "      <td>1.836382e-17</td>\n",
       "      <td>2.733705e-17</td>\n",
       "      <td>1.529325e-17</td>\n",
       "      <td>1.949665e-17</td>\n",
       "      <td>7.083188e-17</td>\n",
       "      <td>-7.894058e-17</td>\n",
       "      <td>1.538268e-17</td>\n",
       "      <td>5.747637e-17</td>\n",
       "    </tr>\n",
       "    <tr>\n",
       "      <th>std</th>\n",
       "      <td>1.000004e+00</td>\n",
       "      <td>1.000004e+00</td>\n",
       "      <td>1.000004e+00</td>\n",
       "      <td>1.000004e+00</td>\n",
       "      <td>1.000004e+00</td>\n",
       "      <td>1.000004e+00</td>\n",
       "      <td>1.000004e+00</td>\n",
       "      <td>1.000004e+00</td>\n",
       "      <td>1.000004e+00</td>\n",
       "      <td>1.000004e+00</td>\n",
       "    </tr>\n",
       "    <tr>\n",
       "      <th>min</th>\n",
       "      <td>-9.062235e-01</td>\n",
       "      <td>-2.125699e+00</td>\n",
       "      <td>-3.512391e-01</td>\n",
       "      <td>-1.807954e-01</td>\n",
       "      <td>-4.677485e-01</td>\n",
       "      <td>-1.651978e+00</td>\n",
       "      <td>-1.847460e-01</td>\n",
       "      <td>-9.033765e-01</td>\n",
       "      <td>-1.940611e-01</td>\n",
       "      <td>-6.664416e-01</td>\n",
       "    </tr>\n",
       "    <tr>\n",
       "      <th>25%</th>\n",
       "      <td>-8.210270e-01</td>\n",
       "      <td>-7.693667e-01</td>\n",
       "      <td>-3.512391e-01</td>\n",
       "      <td>-1.807048e-01</td>\n",
       "      <td>-1.829973e-01</td>\n",
       "      <td>-6.791933e-01</td>\n",
       "      <td>-1.847460e-01</td>\n",
       "      <td>-9.033765e-01</td>\n",
       "      <td>-1.940611e-01</td>\n",
       "      <td>-6.664416e-01</td>\n",
       "    </tr>\n",
       "    <tr>\n",
       "      <th>50%</th>\n",
       "      <td>-4.707942e-01</td>\n",
       "      <td>-2.338383e-02</td>\n",
       "      <td>-3.512391e-01</td>\n",
       "      <td>-1.806066e-01</td>\n",
       "      <td>-7.508849e-02</td>\n",
       "      <td>-9.552263e-02</td>\n",
       "      <td>-1.847460e-01</td>\n",
       "      <td>-2.070164e-02</td>\n",
       "      <td>-1.940611e-01</td>\n",
       "      <td>-6.664416e-01</td>\n",
       "    </tr>\n",
       "    <tr>\n",
       "      <th>75%</th>\n",
       "      <td>6.609987e-01</td>\n",
       "      <td>7.225991e-01</td>\n",
       "      <td>-3.512391e-01</td>\n",
       "      <td>-1.803506e-01</td>\n",
       "      <td>7.114099e-02</td>\n",
       "      <td>4.881481e-01</td>\n",
       "      <td>-1.847460e-01</td>\n",
       "      <td>8.619733e-01</td>\n",
       "      <td>-1.940611e-01</td>\n",
       "      <td>2.358948e-01</td>\n",
       "    </tr>\n",
       "    <tr>\n",
       "      <th>max</th>\n",
       "      <td>2.946689e+00</td>\n",
       "      <td>3.842164e+00</td>\n",
       "      <td>1.686551e+01</td>\n",
       "      <td>1.674870e+02</td>\n",
       "      <td>2.183129e+02</td>\n",
       "      <td>9.632322e+00</td>\n",
       "      <td>3.613239e+01</td>\n",
       "      <td>4.676107e+01</td>\n",
       "      <td>3.406331e+01</td>\n",
       "      <td>1.106393e+01</td>\n",
       "    </tr>\n",
       "  </tbody>\n",
       "</table>\n",
       "</div>"
      ],
      "text/plain": [
       "       RevolvingUtilizationOfUnsecuredLines           age  \\\n",
       "count                          1.191730e+05  1.191730e+05   \n",
       "mean                          -3.350801e-17 -1.088116e-16   \n",
       "std                            1.000004e+00  1.000004e+00   \n",
       "min                           -9.062235e-01 -2.125699e+00   \n",
       "25%                           -8.210270e-01 -7.693667e-01   \n",
       "50%                           -4.707942e-01 -2.338383e-02   \n",
       "75%                            6.609987e-01  7.225991e-01   \n",
       "max                            2.946689e+00  3.842164e+00   \n",
       "\n",
       "       NumberOfTime30-59DaysPastDueNotWorse     DebtRatio  MonthlyIncome  \\\n",
       "count                          1.191730e+05  1.191730e+05   1.191730e+05   \n",
       "mean                           1.836382e-17  2.733705e-17   1.529325e-17   \n",
       "std                            1.000004e+00  1.000004e+00   1.000004e+00   \n",
       "min                           -3.512391e-01 -1.807954e-01  -4.677485e-01   \n",
       "25%                           -3.512391e-01 -1.807048e-01  -1.829973e-01   \n",
       "50%                           -3.512391e-01 -1.806066e-01  -7.508849e-02   \n",
       "75%                           -3.512391e-01 -1.803506e-01   7.114099e-02   \n",
       "max                            1.686551e+01  1.674870e+02   2.183129e+02   \n",
       "\n",
       "       NumberOfOpenCreditLinesAndLoans  NumberOfTimes90DaysLate  \\\n",
       "count                     1.191730e+05             1.191730e+05   \n",
       "mean                      1.949665e-17             7.083188e-17   \n",
       "std                       1.000004e+00             1.000004e+00   \n",
       "min                      -1.651978e+00            -1.847460e-01   \n",
       "25%                      -6.791933e-01            -1.847460e-01   \n",
       "50%                      -9.552263e-02            -1.847460e-01   \n",
       "75%                       4.881481e-01            -1.847460e-01   \n",
       "max                       9.632322e+00             3.613239e+01   \n",
       "\n",
       "       NumberRealEstateLoansOrLines  NumberOfTime60-89DaysPastDueNotWorse  \\\n",
       "count                  1.191730e+05                          1.191730e+05   \n",
       "mean                  -7.894058e-17                          1.538268e-17   \n",
       "std                    1.000004e+00                          1.000004e+00   \n",
       "min                   -9.033765e-01                         -1.940611e-01   \n",
       "25%                   -9.033765e-01                         -1.940611e-01   \n",
       "50%                   -2.070164e-02                         -1.940611e-01   \n",
       "75%                    8.619733e-01                         -1.940611e-01   \n",
       "max                    4.676107e+01                          3.406331e+01   \n",
       "\n",
       "       NumberOfDependents  \n",
       "count        1.191730e+05  \n",
       "mean         5.747637e-17  \n",
       "std          1.000004e+00  \n",
       "min         -6.664416e-01  \n",
       "25%         -6.664416e-01  \n",
       "50%         -6.664416e-01  \n",
       "75%          2.358948e-01  \n",
       "max          1.106393e+01  "
      ]
     },
     "execution_count": 18,
     "metadata": {},
     "output_type": "execute_result"
    }
   ],
   "source": [
    "X_train_clean.describe()"
   ]
  },
  {
   "attachments": {},
   "cell_type": "markdown",
   "metadata": {},
   "source": [
    "Drop all preprocessor"
   ]
  },
  {
   "cell_type": "code",
   "execution_count": 19,
   "metadata": {},
   "outputs": [],
   "source": [
    "preprocessor = {\n",
    "    'constant_imputer': constant_imputer,\n",
    "    'median_imputer': median_imputer,\n",
    "    'standardizer': standardizer\n",
    "}\n",
    "\n",
    "utils.pickle_dump(preprocessor, CONFIG_DATA['preprocessor_path'])"
   ]
  },
  {
   "attachments": {},
   "cell_type": "markdown",
   "metadata": {},
   "source": [
    "# Preprocess all"
   ]
  },
  {
   "cell_type": "code",
   "execution_count": 20,
   "metadata": {},
   "outputs": [],
   "source": [
    "def clean_data(data, constant_imputer, median_imputer, standardizer):\n",
    "    \"\"\"Function to clean data\"\"\"\n",
    "    # Impute missing value\n",
    "    data_imputed = transform_imputer(data, constant_imputer, median_imputer)\n",
    "\n",
    "    # Standardize data\n",
    "    data_standard = transform_standardize(data_imputed, standardizer)\n",
    "\n",
    "    return data_standard"
   ]
  },
  {
   "cell_type": "code",
   "execution_count": 33,
   "metadata": {},
   "outputs": [],
   "source": [
    "def _preprocess_data(data):\n",
    "    \"\"\"Function to preprocess data\"\"\"\n",
    "    # Load preprocessor\n",
    "    preprocessor = utils.pickle_load(CONFIG_DATA['preprocessor_path'])\n",
    "    constant_imputer = preprocessor['constant_imputer']\n",
    "    median_imputer = preprocessor['median_imputer']\n",
    "    standardizer = preprocessor['standardizer']\n",
    "\n",
    "    data_clean = clean_data(data,\n",
    "                            constant_imputer,\n",
    "                            median_imputer,\n",
    "                            standardizer)\n",
    "    \n",
    "    return data_clean"
   ]
  },
  {
   "attachments": {},
   "cell_type": "markdown",
   "metadata": {},
   "source": [
    "# Preprocess all"
   ]
  },
  {
   "attachments": {},
   "cell_type": "markdown",
   "metadata": {},
   "source": [
    "Generate preprocessor"
   ]
  },
  {
   "cell_type": "code",
   "execution_count": 34,
   "metadata": {},
   "outputs": [],
   "source": [
    "def generate_preprocessor(return_file=True):\n",
    "    \"\"\"Function to generate preprocessor\"\"\"\n",
    "    # Load data\n",
    "    X = utils.pickle_load(CONFIG_DATA['train_set_path'][0])\n",
    "    y = utils.pickle_load(CONFIG_DATA['train_set_path'][1])\n",
    "\n",
    "    # Drop unusual data\n",
    "    X, y = clean_late_data(X, y)\n",
    "    X, y = clean_unsecured_data(X, y)\n",
    "\n",
    "    # Generate preprocessor: imputer\n",
    "    constant_imputer, median_imputer = fit_imputer(data = X)\n",
    "    X_imputed = transform_imputer(X, constant_imputer, median_imputer)\n",
    "\n",
    "    # Generate preprocessor: standardizer\n",
    "    standardizer = fit_standardize(X_imputed)\n",
    "\n",
    "    # Dump file\n",
    "    preprocessor = {\n",
    "        'constant_imputer': constant_imputer,\n",
    "        'median_imputer': median_imputer,\n",
    "        'standardizer': standardizer\n",
    "    }\n",
    "    utils.pickle_dump(preprocessor, CONFIG_DATA['preprocessor_path'])\n",
    "    \n",
    "    if return_file:\n",
    "        return preprocessor\n",
    "    "
   ]
  },
  {
   "cell_type": "code",
   "execution_count": 35,
   "metadata": {},
   "outputs": [
    {
     "name": "stdout",
     "output_type": "stream",
     "text": [
      "X shape : (119785, 10)\n",
      "y shape : (119785,)\n",
      "X shape : (119173, 10)\n",
      "y shape : (119173,)\n",
      "data shape : (119173, 10)\n"
     ]
    }
   ],
   "source": [
    "preprocessor = generate_preprocessor()"
   ]
  },
  {
   "attachments": {},
   "cell_type": "markdown",
   "metadata": {},
   "source": [
    "For X train"
   ]
  },
  {
   "cell_type": "code",
   "execution_count": 36,
   "metadata": {},
   "outputs": [],
   "source": [
    "def preprocess_data(type='train', return_file=True):\n",
    "    \"\"\"Function to preprocess train data\"\"\"\n",
    "    # Load data\n",
    "    X = utils.pickle_load(CONFIG_DATA[f'{type}_set_path'][0])\n",
    "    y = utils.pickle_load(CONFIG_DATA[f'{type}_set_path'][1])\n",
    "\n",
    "    if type == 'train':\n",
    "        # Drop unusual data\n",
    "        X, y = clean_late_data(X, y)\n",
    "        X, y = clean_unsecured_data(X, y)\n",
    "        \n",
    "    # Preprocess data\n",
    "    X_clean = _preprocess_data(X)\n",
    "    y_clean = y\n",
    "\n",
    "    # Print shape\n",
    "    print(\"X clean shape:\", X_clean.shape)\n",
    "    print(\"y clean shape:\", y_clean.shape)\n",
    "\n",
    "    # Dump file\n",
    "    utils.pickle_dump(X_clean, CONFIG_DATA[f'{type}_clean_path'][0])\n",
    "    utils.pickle_dump(y_clean, CONFIG_DATA[f'{type}_clean_path'][1])\n",
    "\n",
    "    if return_file:\n",
    "        return X_clean, y_clean    "
   ]
  },
  {
   "cell_type": "code",
   "execution_count": 38,
   "metadata": {},
   "outputs": [
    {
     "name": "stdout",
     "output_type": "stream",
     "text": [
      "X shape : (119785, 10)\n",
      "y shape : (119785,)\n",
      "X shape : (119173, 10)\n",
      "y shape : (119173,)\n",
      "data shape : (119173, 10)\n",
      "X clean shape: (119173, 10)\n",
      "y clean shape: (119173,)\n"
     ]
    }
   ],
   "source": [
    "# Transform X_train\n",
    "X_train_clean, y_train_clean = preprocess_data(type = 'train')"
   ]
  },
  {
   "cell_type": "code",
   "execution_count": 39,
   "metadata": {},
   "outputs": [
    {
     "name": "stdout",
     "output_type": "stream",
     "text": [
      "data shape : (30000, 10)\n",
      "X clean shape: (30000, 10)\n",
      "y clean shape: (30000,)\n"
     ]
    }
   ],
   "source": [
    "# Transform X_train\n",
    "X_test_clean, y_test_clean = preprocess_data(type = 'test')"
   ]
  },
  {
   "cell_type": "code",
   "execution_count": 40,
   "metadata": {},
   "outputs": [
    {
     "data": {
      "text/html": [
       "<div>\n",
       "<style scoped>\n",
       "    .dataframe tbody tr th:only-of-type {\n",
       "        vertical-align: middle;\n",
       "    }\n",
       "\n",
       "    .dataframe tbody tr th {\n",
       "        vertical-align: top;\n",
       "    }\n",
       "\n",
       "    .dataframe thead th {\n",
       "        text-align: right;\n",
       "    }\n",
       "</style>\n",
       "<table border=\"1\" class=\"dataframe\">\n",
       "  <thead>\n",
       "    <tr style=\"text-align: right;\">\n",
       "      <th></th>\n",
       "      <th>RevolvingUtilizationOfUnsecuredLines</th>\n",
       "      <th>age</th>\n",
       "      <th>NumberOfTime30-59DaysPastDueNotWorse</th>\n",
       "      <th>DebtRatio</th>\n",
       "      <th>MonthlyIncome</th>\n",
       "      <th>NumberOfOpenCreditLinesAndLoans</th>\n",
       "      <th>NumberOfTimes90DaysLate</th>\n",
       "      <th>NumberRealEstateLoansOrLines</th>\n",
       "      <th>NumberOfTime60-89DaysPastDueNotWorse</th>\n",
       "      <th>NumberOfDependents</th>\n",
       "    </tr>\n",
       "  </thead>\n",
       "  <tbody>\n",
       "    <tr>\n",
       "      <th>count</th>\n",
       "      <td>1.191730e+05</td>\n",
       "      <td>1.191730e+05</td>\n",
       "      <td>1.191730e+05</td>\n",
       "      <td>1.191730e+05</td>\n",
       "      <td>1.191730e+05</td>\n",
       "      <td>1.191730e+05</td>\n",
       "      <td>1.191730e+05</td>\n",
       "      <td>1.191730e+05</td>\n",
       "      <td>1.191730e+05</td>\n",
       "      <td>1.191730e+05</td>\n",
       "    </tr>\n",
       "    <tr>\n",
       "      <th>mean</th>\n",
       "      <td>-3.350801e-17</td>\n",
       "      <td>-1.088116e-16</td>\n",
       "      <td>1.836382e-17</td>\n",
       "      <td>2.733705e-17</td>\n",
       "      <td>1.529325e-17</td>\n",
       "      <td>1.949665e-17</td>\n",
       "      <td>7.083188e-17</td>\n",
       "      <td>-7.894058e-17</td>\n",
       "      <td>1.538268e-17</td>\n",
       "      <td>5.747637e-17</td>\n",
       "    </tr>\n",
       "    <tr>\n",
       "      <th>std</th>\n",
       "      <td>1.000004e+00</td>\n",
       "      <td>1.000004e+00</td>\n",
       "      <td>1.000004e+00</td>\n",
       "      <td>1.000004e+00</td>\n",
       "      <td>1.000004e+00</td>\n",
       "      <td>1.000004e+00</td>\n",
       "      <td>1.000004e+00</td>\n",
       "      <td>1.000004e+00</td>\n",
       "      <td>1.000004e+00</td>\n",
       "      <td>1.000004e+00</td>\n",
       "    </tr>\n",
       "    <tr>\n",
       "      <th>min</th>\n",
       "      <td>-9.062235e-01</td>\n",
       "      <td>-2.125699e+00</td>\n",
       "      <td>-3.512391e-01</td>\n",
       "      <td>-1.807954e-01</td>\n",
       "      <td>-4.677485e-01</td>\n",
       "      <td>-1.651978e+00</td>\n",
       "      <td>-1.847460e-01</td>\n",
       "      <td>-9.033765e-01</td>\n",
       "      <td>-1.940611e-01</td>\n",
       "      <td>-6.664416e-01</td>\n",
       "    </tr>\n",
       "    <tr>\n",
       "      <th>25%</th>\n",
       "      <td>-8.210270e-01</td>\n",
       "      <td>-7.693667e-01</td>\n",
       "      <td>-3.512391e-01</td>\n",
       "      <td>-1.807048e-01</td>\n",
       "      <td>-1.829973e-01</td>\n",
       "      <td>-6.791933e-01</td>\n",
       "      <td>-1.847460e-01</td>\n",
       "      <td>-9.033765e-01</td>\n",
       "      <td>-1.940611e-01</td>\n",
       "      <td>-6.664416e-01</td>\n",
       "    </tr>\n",
       "    <tr>\n",
       "      <th>50%</th>\n",
       "      <td>-4.707942e-01</td>\n",
       "      <td>-2.338383e-02</td>\n",
       "      <td>-3.512391e-01</td>\n",
       "      <td>-1.806066e-01</td>\n",
       "      <td>-7.508849e-02</td>\n",
       "      <td>-9.552263e-02</td>\n",
       "      <td>-1.847460e-01</td>\n",
       "      <td>-2.070164e-02</td>\n",
       "      <td>-1.940611e-01</td>\n",
       "      <td>-6.664416e-01</td>\n",
       "    </tr>\n",
       "    <tr>\n",
       "      <th>75%</th>\n",
       "      <td>6.609987e-01</td>\n",
       "      <td>7.225991e-01</td>\n",
       "      <td>-3.512391e-01</td>\n",
       "      <td>-1.803506e-01</td>\n",
       "      <td>7.114099e-02</td>\n",
       "      <td>4.881481e-01</td>\n",
       "      <td>-1.847460e-01</td>\n",
       "      <td>8.619733e-01</td>\n",
       "      <td>-1.940611e-01</td>\n",
       "      <td>2.358948e-01</td>\n",
       "    </tr>\n",
       "    <tr>\n",
       "      <th>max</th>\n",
       "      <td>2.946689e+00</td>\n",
       "      <td>3.842164e+00</td>\n",
       "      <td>1.686551e+01</td>\n",
       "      <td>1.674870e+02</td>\n",
       "      <td>2.183129e+02</td>\n",
       "      <td>9.632322e+00</td>\n",
       "      <td>3.613239e+01</td>\n",
       "      <td>4.676107e+01</td>\n",
       "      <td>3.406331e+01</td>\n",
       "      <td>1.106393e+01</td>\n",
       "    </tr>\n",
       "  </tbody>\n",
       "</table>\n",
       "</div>"
      ],
      "text/plain": [
       "       RevolvingUtilizationOfUnsecuredLines           age  \\\n",
       "count                          1.191730e+05  1.191730e+05   \n",
       "mean                          -3.350801e-17 -1.088116e-16   \n",
       "std                            1.000004e+00  1.000004e+00   \n",
       "min                           -9.062235e-01 -2.125699e+00   \n",
       "25%                           -8.210270e-01 -7.693667e-01   \n",
       "50%                           -4.707942e-01 -2.338383e-02   \n",
       "75%                            6.609987e-01  7.225991e-01   \n",
       "max                            2.946689e+00  3.842164e+00   \n",
       "\n",
       "       NumberOfTime30-59DaysPastDueNotWorse     DebtRatio  MonthlyIncome  \\\n",
       "count                          1.191730e+05  1.191730e+05   1.191730e+05   \n",
       "mean                           1.836382e-17  2.733705e-17   1.529325e-17   \n",
       "std                            1.000004e+00  1.000004e+00   1.000004e+00   \n",
       "min                           -3.512391e-01 -1.807954e-01  -4.677485e-01   \n",
       "25%                           -3.512391e-01 -1.807048e-01  -1.829973e-01   \n",
       "50%                           -3.512391e-01 -1.806066e-01  -7.508849e-02   \n",
       "75%                           -3.512391e-01 -1.803506e-01   7.114099e-02   \n",
       "max                            1.686551e+01  1.674870e+02   2.183129e+02   \n",
       "\n",
       "       NumberOfOpenCreditLinesAndLoans  NumberOfTimes90DaysLate  \\\n",
       "count                     1.191730e+05             1.191730e+05   \n",
       "mean                      1.949665e-17             7.083188e-17   \n",
       "std                       1.000004e+00             1.000004e+00   \n",
       "min                      -1.651978e+00            -1.847460e-01   \n",
       "25%                      -6.791933e-01            -1.847460e-01   \n",
       "50%                      -9.552263e-02            -1.847460e-01   \n",
       "75%                       4.881481e-01            -1.847460e-01   \n",
       "max                       9.632322e+00             3.613239e+01   \n",
       "\n",
       "       NumberRealEstateLoansOrLines  NumberOfTime60-89DaysPastDueNotWorse  \\\n",
       "count                  1.191730e+05                          1.191730e+05   \n",
       "mean                  -7.894058e-17                          1.538268e-17   \n",
       "std                    1.000004e+00                          1.000004e+00   \n",
       "min                   -9.033765e-01                         -1.940611e-01   \n",
       "25%                   -9.033765e-01                         -1.940611e-01   \n",
       "50%                   -2.070164e-02                         -1.940611e-01   \n",
       "75%                    8.619733e-01                         -1.940611e-01   \n",
       "max                    4.676107e+01                          3.406331e+01   \n",
       "\n",
       "       NumberOfDependents  \n",
       "count        1.191730e+05  \n",
       "mean         5.747637e-17  \n",
       "std          1.000004e+00  \n",
       "min         -6.664416e-01  \n",
       "25%         -6.664416e-01  \n",
       "50%         -6.664416e-01  \n",
       "75%          2.358948e-01  \n",
       "max          1.106393e+01  "
      ]
     },
     "execution_count": 40,
     "metadata": {},
     "output_type": "execute_result"
    }
   ],
   "source": [
    "X_train_clean.describe()"
   ]
  },
  {
   "cell_type": "code",
   "execution_count": null,
   "metadata": {},
   "outputs": [],
   "source": []
  }
 ],
 "metadata": {
  "kernelspec": {
   "display_name": "base",
   "language": "python",
   "name": "python3"
  },
  "language_info": {
   "codemirror_mode": {
    "name": "ipython",
    "version": 3
   },
   "file_extension": ".py",
   "mimetype": "text/x-python",
   "name": "python",
   "nbconvert_exporter": "python",
   "pygments_lexer": "ipython3",
   "version": "3.10.9"
  },
  "orig_nbformat": 4
 },
 "nbformat": 4,
 "nbformat_minor": 2
}
